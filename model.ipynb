{
 "cells": [
  {
   "cell_type": "code",
   "execution_count": 10,
   "metadata": {},
   "outputs": [],
   "source": [
    "from inference_sdk import InferenceHTTPClient\n",
    "\n",
    "CLIENT = InferenceHTTPClient(\n",
    "    api_url=\"https://detect.roboflow.com\",\n",
    "    api_key=\"dAD9MajKfGlG3TYFTd9r\"\n",
    ")\n",
    "\n",
    "result=CLIENT.infer(\"diabet2.jpg\", model_id=\"diadet-ai/1\")"
   ]
  },
  {
   "cell_type": "code",
   "execution_count": 9,
   "metadata": {},
   "outputs": [
    {
     "name": "stderr",
     "output_type": "stream",
     "text": [
      "<>:7: SyntaxWarning: invalid escape sequence '\\C'\n",
      "<>:7: SyntaxWarning: invalid escape sequence '\\C'\n",
      "C:\\Users\\Aro\\AppData\\Local\\Temp\\ipykernel_25528\\1036738655.py:7: SyntaxWarning: invalid escape sequence '\\C'\n",
      "  img=cv2.imread(\"D:\\Coding\\Diadet AI\\static\\images\\diabet2.jpg\")\n"
     ]
    },
    {
     "ename": "AttributeError",
     "evalue": "'numpy.ndarray' object has no attribute 'fromarray'",
     "output_type": "error",
     "traceback": [
      "\u001b[1;31m---------------------------------------------------------------------------\u001b[0m",
      "\u001b[1;31mAttributeError\u001b[0m                            Traceback (most recent call last)",
      "Cell \u001b[1;32mIn[9], line 9\u001b[0m\n\u001b[0;32m      7\u001b[0m img\u001b[38;5;241m=\u001b[39mcv2\u001b[38;5;241m.\u001b[39mimread(\u001b[38;5;124m\"\u001b[39m\u001b[38;5;124mD:\u001b[39m\u001b[38;5;124m\\\u001b[39m\u001b[38;5;124mCoding\u001b[39m\u001b[38;5;124m\\\u001b[39m\u001b[38;5;124mDiadet AI\u001b[39m\u001b[38;5;124m\\\u001b[39m\u001b[38;5;124mstatic\u001b[39m\u001b[38;5;124m\\\u001b[39m\u001b[38;5;124mimages\u001b[39m\u001b[38;5;124m\\\u001b[39m\u001b[38;5;124mdiabet2.jpg\u001b[39m\u001b[38;5;124m\"\u001b[39m)\n\u001b[0;32m      8\u001b[0m image\u001b[38;5;241m=\u001b[39mcv2\u001b[38;5;241m.\u001b[39mcvtColor(img,cv2\u001b[38;5;241m.\u001b[39mCOLOR_BGR2RGB)\n\u001b[1;32m----> 9\u001b[0m pilImage\u001b[38;5;241m=\u001b[39m\u001b[43mimage\u001b[49m\u001b[38;5;241;43m.\u001b[39;49m\u001b[43mfromarray\u001b[49m(image)\n\u001b[0;32m     11\u001b[0m buffered\u001b[38;5;241m=\u001b[39mio\u001b[38;5;241m.\u001b[39mBytesIO()\n\u001b[0;32m     12\u001b[0m pilImage\u001b[38;5;241m.\u001b[39msave(buffered, quality\u001b[38;5;241m=\u001b[39m\u001b[38;5;241m100\u001b[39m, \u001b[38;5;28mformat\u001b[39m\u001b[38;5;241m=\u001b[39m\u001b[38;5;124m\"\u001b[39m\u001b[38;5;124mJPEG\u001b[39m\u001b[38;5;124m\"\u001b[39m)\n",
      "\u001b[1;31mAttributeError\u001b[0m: 'numpy.ndarray' object has no attribute 'fromarray'"
     ]
    }
   ],
   "source": [
    "import io\n",
    "import cv2\n",
    "import requests\n",
    "from PIL import Image\n",
    "from requests_toolbelt.multipart.encoder import MultipartEncoder\n",
    "\n",
    "img=cv2.imread(\"D:\\Coding\\Diadet AI\\static\\images\\diabet2.jpg\")\n",
    "image=cv2.cvtColor(img,cv2.COLOR_BGR2RGB)\n",
    "pilImage=image.fromarray(image)\n",
    "\n",
    "buffered=io.BytesIO()\n",
    "pilImage.save(buffered, quality=100, format=\"JPEG\")\n",
    "\n",
    "m=MultipartEncoder(fields={\"file\":(\"diabet2.jpg\",buffered.getvalue(),\"image/jpeg\")})\n",
    "\n",
    "response=requests.post(\"https://detect.roboflow.com/diadet-ai/1?api_key=dAD9MajKfGlG3TYFTd9r\",data=m,headers={\"Content-Type\":m.content_type})\n",
    "\n",
    "print(response)\n",
    "print(response.json())"
   ]
  },
  {
   "cell_type": "code",
   "execution_count": null,
   "metadata": {},
   "outputs": [],
   "source": [
    "import requests\n",
    "import base64\n",
    "import io\n",
    "from PIL import Image\n",
    "\n",
    "image=Image.open(\"static\\images\\diabet2.jpg\").convert(\"RGB\")\n",
    "\n",
    "buffered=io.BytesIO()\n",
    "image.save(buffered, quality=90, format=\"JPEG\")\n",
    "\n",
    "img_str=base64.b64encode(buffered.getvalue())\n",
    "img_str=img_str.decode(\"ascii\")\n",
    "\n",
    "upload_url=\"\".join([\n",
    "    \"https://detect.roboflow.com/diadet-ai/1\",\n",
    "    \"?api_key=dAD9MajKfGlG3TYFTd9r\",\n",
    "    \"&name=YOUR_IMAGE.jpg\"\n",
    "])\n",
    "\n",
    "r=requests.post(upload_url, data=img_str, headers={\n",
    "    \"Content-Type\": \"application/x-www-form-urlencoded\"\n",
    "})\n",
    "\n",
    "print(r.json())"
   ]
  },
  {
   "cell_type": "code",
   "execution_count": null,
   "metadata": {},
   "outputs": [],
   "source": [
    "from roboflow import Roboflow\n",
    "\n",
    "rf = Roboflow(api_key=\"\")\n",
    "\n",
    "workspace=rf.workspace()\n",
    "\n",
    "project=workspace.project(\"diadet-ai\")\n",
    "\n",
    "model = version.model\n",
    "prediction=model.predict(\"\",hosted=True)\n",
    "prediction.plot()\n",
    "prediction.save(output_path=\"output.jpg\")"
   ]
  }
 ],
 "metadata": {
  "kernelspec": {
   "display_name": "Python 3",
   "language": "python",
   "name": "python3"
  },
  "language_info": {
   "codemirror_mode": {
    "name": "ipython",
    "version": 3
   },
   "file_extension": ".py",
   "mimetype": "text/x-python",
   "name": "python",
   "nbconvert_exporter": "python",
   "pygments_lexer": "ipython3",
   "version": "3.12.1"
  }
 },
 "nbformat": 4,
 "nbformat_minor": 2
}
